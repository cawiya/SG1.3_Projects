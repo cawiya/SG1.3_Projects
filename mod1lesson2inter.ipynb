{
  "nbformat": 4,
  "nbformat_minor": 0,
  "metadata": {
    "colab": {
      "provenance": [],
      "authorship_tag": "ABX9TyNaqj+VQs7GlPb2CblGH88o",
      "include_colab_link": true
    },
    "kernelspec": {
      "name": "python3",
      "display_name": "Python 3"
    },
    "language_info": {
      "name": "python"
    }
  },
  "cells": [
    {
      "cell_type": "markdown",
      "metadata": {
        "id": "view-in-github",
        "colab_type": "text"
      },
      "source": [
        "<a href=\"https://colab.research.google.com/github/cawiya/SG1.3_Projects/blob/master/mod1lesson2inter.ipynb\" target=\"_parent\"><img src=\"https://colab.research.google.com/assets/colab-badge.svg\" alt=\"Open In Colab\"/></a>"
      ]
    },
    {
      "cell_type": "code",
      "execution_count": 2,
      "metadata": {
        "id": "HSu1Mn_1hFQM"
      },
      "outputs": [],
      "source": [
        "#Create a function, that repeats the first 2 letters of a word which will be followed by 3 dots and a space after\n",
        "#The string should be ended with a question mark\n",
        "\n",
        "def repeat_letters(x):\n",
        "    print(f\"{x[0:2]}... {x[0:2]}... {x}?\")"
      ]
    },
    {
      "cell_type": "code",
      "source": [
        "repeat_letters(\"Temitope\")"
      ],
      "metadata": {
        "colab": {
          "base_uri": "https://localhost:8080/"
        },
        "id": "9clgQbu1hP04",
        "outputId": "0529fa2f-12a4-4289-ac79-db2ccc3d3b00"
      },
      "execution_count": 3,
      "outputs": [
        {
          "output_type": "stream",
          "name": "stdout",
          "text": [
            "Te... Te... Temitope?\n"
          ]
        }
      ]
    },
    {
      "cell_type": "code",
      "source": [
        "#Perform a for loop that searches through a string and prints only distinct vowel letters\n",
        "\n",
        "vowels = \"aeiou\"\n",
        "def is_vowels(x):\n",
        "    for i in vowels:\n",
        "        if i in x:\n",
        "            print(i, end =\" \")"
      ],
      "metadata": {
        "id": "w5JQYNdjhTRs"
      },
      "execution_count": 5,
      "outputs": []
    },
    {
      "cell_type": "code",
      "source": [
        "is_vowels(\"meticulous\")"
      ],
      "metadata": {
        "colab": {
          "base_uri": "https://localhost:8080/"
        },
        "id": "jx2nHZzmhlJb",
        "outputId": "7a66028a-00ad-4398-a6fc-dbd62afbc6e8"
      },
      "execution_count": 6,
      "outputs": [
        {
          "output_type": "stream",
          "name": "stdout",
          "text": [
            "e i o u "
          ]
        }
      ]
    },
    {
      "cell_type": "code",
      "source": [
        "#Perform a while loop that requests for a name, if that name is entered, it will be printed else, \n",
        "#if user types “end” (this command should be case insensitive), the while loop is terminated\n",
        "\n",
        "usr_name = True\n",
        "while usr_name:\n",
        "     name = input('Enter your name, or type end to exit ')\n",
        "     if name.lower() == \"end\":\n",
        "        usr_name = False"
      ],
      "metadata": {
        "colab": {
          "base_uri": "https://localhost:8080/"
        },
        "id": "erNoGDZXhoMB",
        "outputId": "3b85353e-03e2-4292-850e-5204c6ad29b4"
      },
      "execution_count": 10,
      "outputs": [
        {
          "name": "stdout",
          "output_type": "stream",
          "text": [
            "Enter your name, or type end to exit jon\n",
            "Enter your name, or type end to exit snow\n",
            "Enter your name, or type end to exit eND\n"
          ]
        }
      ]
    }
  ]
}