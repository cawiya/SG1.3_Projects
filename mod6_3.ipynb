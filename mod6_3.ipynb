{
  "nbformat": 4,
  "nbformat_minor": 0,
  "metadata": {
    "colab": {
      "provenance": [],
      "authorship_tag": "ABX9TyMEWZaSmTK68g6Ktqq6RG+T",
      "include_colab_link": true
    },
    "kernelspec": {
      "name": "python3",
      "display_name": "Python 3"
    },
    "language_info": {
      "name": "python"
    }
  },
  "cells": [
    {
      "cell_type": "markdown",
      "metadata": {
        "id": "view-in-github",
        "colab_type": "text"
      },
      "source": [
        "<a href=\"https://colab.research.google.com/github/cawiya/SG1.3_Projects/blob/master/mod6_3.ipynb\" target=\"_parent\"><img src=\"https://colab.research.google.com/assets/colab-badge.svg\" alt=\"Open In Colab\"/></a>"
      ]
    },
    {
      "cell_type": "code",
      "execution_count": 1,
      "metadata": {
        "id": "_zy05S8saKDR"
      },
      "outputs": [],
      "source": [
        "import numpy as np"
      ]
    },
    {
      "cell_type": "code",
      "source": [
        "# generate an array of numbers\n",
        "num = [*range(1,101)]\n",
        "print(num)"
      ],
      "metadata": {
        "colab": {
          "base_uri": "https://localhost:8080/"
        },
        "id": "65pIaIbAdCa6",
        "outputId": "f999816f-9c91-4eeb-be5e-495ab674ea62"
      },
      "execution_count": 2,
      "outputs": [
        {
          "output_type": "stream",
          "name": "stdout",
          "text": [
            "[1, 2, 3, 4, 5, 6, 7, 8, 9, 10, 11, 12, 13, 14, 15, 16, 17, 18, 19, 20, 21, 22, 23, 24, 25, 26, 27, 28, 29, 30, 31, 32, 33, 34, 35, 36, 37, 38, 39, 40, 41, 42, 43, 44, 45, 46, 47, 48, 49, 50, 51, 52, 53, 54, 55, 56, 57, 58, 59, 60, 61, 62, 63, 64, 65, 66, 67, 68, 69, 70, 71, 72, 73, 74, 75, 76, 77, 78, 79, 80, 81, 82, 83, 84, 85, 86, 87, 88, 89, 90, 91, 92, 93, 94, 95, 96, 97, 98, 99, 100]\n"
          ]
        }
      ]
    },
    {
      "cell_type": "code",
      "source": [
        "# extract the even numbers from the data array\n",
        "even_num = np.array([*filter(lambda x: x%2 == 0, num)])\n",
        "print(even_num)"
      ],
      "metadata": {
        "colab": {
          "base_uri": "https://localhost:8080/"
        },
        "id": "-ze5u5l3dzwl",
        "outputId": "1a7f23a8-c94d-42be-ab7e-844732a0c544"
      },
      "execution_count": 3,
      "outputs": [
        {
          "output_type": "stream",
          "name": "stdout",
          "text": [
            "[  2   4   6   8  10  12  14  16  18  20  22  24  26  28  30  32  34  36\n",
            "  38  40  42  44  46  48  50  52  54  56  58  60  62  64  66  68  70  72\n",
            "  74  76  78  80  82  84  86  88  90  92  94  96  98 100]\n"
          ]
        }
      ]
    },
    {
      "cell_type": "code",
      "source": [
        "# generate LCM of even numbers\n",
        "lcm_num = np.lcm.reduce(even_num)\n",
        "print(lcm_num)"
      ],
      "metadata": {
        "id": "roKHiO-Nepq-"
      },
      "execution_count": null,
      "outputs": []
    },
    {
      "cell_type": "code",
      "source": [],
      "metadata": {
        "id": "rTod094ie8wj"
      },
      "execution_count": null,
      "outputs": []
    }
  ]
}